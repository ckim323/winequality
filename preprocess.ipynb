{
 "cells": [
  {
   "cell_type": "code",
   "execution_count": null,
   "metadata": {},
   "outputs": [],
   "source": [
    "import pandas as pd\n",
    "from sklearn.preprocessing import LabelEncoder, StandardScaler\n",
    "from sklearn.model_selection import train_test_split\n",
    "from sklearn.ensemble import RandomForestClassifier\n",
    "from sklearn.metrics import accuracy_score as acc\n",
    "import numpy as np\n",
    "import random\n",
    "\n",
    "#wine is a pandas df \n",
    "X = wine.drop('quality',axis=1)\n",
    "y = wine['quality']\n",
    "\n",
    "#convert continuous response to binary\n",
    "\n",
    "binary = [\"good\",\"bad\"]\n",
    "#how do we assign threshold that determines good or bad? \n",
    "bins = (0,0.5,1)\n",
    "\n",
    "binary_list = pd.cut(y,bins=bins,labels=binary)\n",
    "y= LabelEncoder().fit_transform(binary_list)\n",
    "\n",
    "\n",
    "X_train, X_test, y_train,y_test = train_test_split(X,y,test_size = 0.20)\n",
    "\n",
    "sc = StandardScaler()\n",
    "\n",
    "X_train = sc.fit_transform(X_train)\n",
    "X_test = sc.fit_transform(X_test)\n",
    "\n",
    "rf = RandomForestClassifier(n_estimators = 200,oob_score=True)\n",
    "rf.fit(X_train, y_train)\n",
    "pred = rf.predict(X_test)\n",
    "\n",
    "\n",
    "\n"
   ]
  }
 ],
 "metadata": {
  "kernelspec": {
   "display_name": "Python 3",
   "language": "python",
   "name": "python3"
  },
  "language_info": {
   "codemirror_mode": {
    "name": "ipython",
    "version": 3
   },
   "file_extension": ".py",
   "mimetype": "text/x-python",
   "name": "python",
   "nbconvert_exporter": "python",
   "pygments_lexer": "ipython3",
   "version": "3.6.3"
  }
 },
 "nbformat": 4,
 "nbformat_minor": 2
}
